{
 "cells": [
  {
   "cell_type": "markdown",
   "id": "8d2a51de",
   "metadata": {},
   "source": [
    "# 📓 Notebook Title\n",
    "\n",
    "**Author**: Lisa\n",
    "**Date**: YYYY-MM-DD  \n",
    "**Purpose**: Short description of what this notebook explores."
   ]
  },
  {
   "cell_type": "code",
   "execution_count": 1,
   "id": "0bf4e39a",
   "metadata": {},
   "outputs": [
    {
     "name": "stderr",
     "output_type": "stream",
     "text": [
      "/opt/homebrew/Caskroom/miniconda/base/envs/antibody/lib/python3.11/site-packages/tqdm/auto.py:21: TqdmWarning: IProgress not found. Please update jupyter and ipywidgets. See https://ipywidgets.readthedocs.io/en/stable/user_install.html\n",
      "  from .autonotebook import tqdm as notebook_tqdm\n"
     ]
    }
   ],
   "source": [
    "# !pip install pandas numpy matplotlib scipy biopython\n",
    "import os, json, random\n",
    "import numpy as np, pandas as pd\n",
    "import matplotlib.pyplot as plt\n",
    "from scipy.stats import spearmanr\n",
    "\n",
    "SEED = 42\n",
    "np.random.seed(SEED); random.seed(SEED)\n",
    "DATA = \"data/\"  # adjust\n",
    "\n",
    "# if this does not work go look at readme\n",
    "df = pd.read_csv(\"hf://datasets/ginkgo-datapoints/GDPa1/GDPa1_v1.2_20250814.csv\") "
   ]
  },
  {
   "cell_type": "code",
   "execution_count": null,
   "id": "f951a0c1",
   "metadata": {},
   "outputs": [],
   "source": []
  }
 ],
 "metadata": {
  "kernelspec": {
   "display_name": "antibody",
   "language": "python",
   "name": "python3"
  },
  "language_info": {
   "codemirror_mode": {
    "name": "ipython",
    "version": 3
   },
   "file_extension": ".py",
   "mimetype": "text/x-python",
   "name": "python",
   "nbconvert_exporter": "python",
   "pygments_lexer": "ipython3",
   "version": "3.11.13"
  }
 },
 "nbformat": 4,
 "nbformat_minor": 5
}
