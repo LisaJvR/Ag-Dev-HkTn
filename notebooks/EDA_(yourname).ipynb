{
 "cells": [
  {
   "cell_type": "markdown",
   "id": "67832b82",
   "metadata": {},
   "source": [
    "# 📓 Notebook Title\n",
    "\n",
    "**Author**: [Your Name]  \n",
    "**Date**: YYYY-MM-DD  \n",
    "**Purpose**: Short description of what this notebook explores."
   ]
  },
  {
   "cell_type": "code",
   "execution_count": 22,
   "id": "5389f2a2",
   "metadata": {},
   "outputs": [],
   "source": [
    "# !pip install pandas numpy matplotlib scipy biopython\n",
    "import os, json, random\n",
    "import numpy as np, pandas as pd\n",
    "import matplotlib.pyplot as plt\n",
    "from scipy.stats import spearmanr\n",
    "\n",
    "SEED = 42\n",
    "np.random.seed(SEED); random.seed(SEED)\n",
    "DATA = \"data/\"  # adjust\n",
    "\n",
    "# if this does not work go look at readme\n",
    "df = pd.read_csv(\"hf://datasets/ginkgo-datapoints/GDPa1/GDPa1_v1.2_20250814.csv\") "
   ]
  }
 ],
 "metadata": {
  "kernelspec": {
   "display_name": "antibody",
   "language": "python",
   "name": "python3"
  },
  "language_info": {
   "name": "python",
   "version": "3.11.13"
  }
 },
 "nbformat": 4,
 "nbformat_minor": 5
}
