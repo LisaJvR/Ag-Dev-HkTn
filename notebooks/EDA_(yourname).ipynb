{
 "cells": [
  {
   "cell_type": "markdown",
   "id": "cd7312c8",
   "metadata": {},
   "source": [
    "## Jupyter Notebook Shortcuts:\n",
    "- `ctrl` + `Enter` : To run a single cell\n",
    "- `esc` + `a` : To add a new cell above\n",
    "- `esc` + `b` : To add a new cell below"
   ]
  }
 ],
 "metadata": {
  "language_info": {
   "name": "python"
  }
 },
 "nbformat": 4,
 "nbformat_minor": 5
}
